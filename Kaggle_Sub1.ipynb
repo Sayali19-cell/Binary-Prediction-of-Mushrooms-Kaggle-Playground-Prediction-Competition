{
  "nbformat": 4,
  "nbformat_minor": 0,
  "metadata": {
    "colab": {
      "provenance": [],
      "gpuType": "T4",
      "authorship_tag": "ABX9TyP1OKXqzhWahVih/IL0RI7L",
      "include_colab_link": true
    },
    "kernelspec": {
      "name": "python3",
      "display_name": "Python 3"
    },
    "language_info": {
      "name": "python"
    },
    "accelerator": "GPU"
  },
  "cells": [
    {
      "cell_type": "markdown",
      "metadata": {
        "id": "view-in-github",
        "colab_type": "text"
      },
      "source": [
        "<a href=\"https://colab.research.google.com/github/Sayali19-cell/Binary-Prediction-of-Mushrooms-Kaggle-Playground-Prediction-Competition/blob/main/Kaggle_Sub1.ipynb\" target=\"_parent\"><img src=\"https://colab.research.google.com/assets/colab-badge.svg\" alt=\"Open In Colab\"/></a>"
      ]
    },
    {
      "cell_type": "code",
      "source": [
        "# Import necessary libraries\n",
        "import pandas as pd\n",
        "import xgboost as xgb\n",
        "from sklearn.preprocessing import LabelEncoder\n",
        "\n",
        "# Load the dataset (assuming your CSV file is in the same directory)\n",
        "train_df = pd.read_csv('train.csv')\n",
        "test_df = pd.read_csv('test.csv')\n",
        "\n",
        "# Check the columns in both dataframes\n",
        "print(\"Training Columns:\", train_df.columns)\n",
        "print(\"Testing Columns:\", test_df.columns)\n",
        "\n",
        "# Encode the 'class' target variable\n",
        "le = LabelEncoder()\n",
        "train_df['class'] = le.fit_transform(train_df['class'])\n",
        "\n",
        "# Encode categorical features\n",
        "categorical_cols = [col for col in train_df.columns if col not in ['id', 'class', 'cap-diameter', 'stem-height', 'stem-width']]\n",
        "for col in categorical_cols:\n",
        "    if col in train_df.columns:\n",
        "        train_df[col] = le.fit_transform(train_df[col])\n",
        "    if col in test_df.columns:\n",
        "        test_df[col] = le.fit_transform(test_df[col])\n",
        "\n",
        "# Split the data into features (X) and target (y)\n",
        "X_train = train_df.drop(['id', 'class'], axis=1, errors='ignore')\n",
        "y_train = train_df['class']\n",
        "\n",
        "X_test = test_df.drop(['id', 'class'], axis=1, errors='ignore')\n",
        "test_ids = test_df['id']\n",
        "\n",
        "# Initialize and train the XGBoost model\n",
        "model = xgb.XGBClassifier(eval_metric='logloss')\n",
        "model.fit(X_train, y_train)\n",
        "\n",
        "# Predict on the test data\n",
        "y_pred = model.predict(X_test)\n",
        "\n",
        "# Decode the predictions back to original classes\n",
        "class_mapping = {0: 'e', 1: 'p'}\n",
        "y_pred_decoded = [class_mapping[pred] for pred in y_pred]\n",
        "\n",
        "# Create a DataFrame for the output with 'id' and 'class'\n",
        "output_df = pd.DataFrame({\n",
        "    'id': test_ids,\n",
        "    'class': y_pred_decoded\n",
        "})\n",
        "\n",
        "# Ensure the output has 2,077,964 rows with no duplicates\n",
        "if output_df.shape[0] < 2077964:\n",
        "    output_df = output_df.drop_duplicates().sample(n=2077964, replace=True, random_state=42)\n",
        "else:\n",
        "    output_df = output_df.drop_duplicates()\n",
        "\n",
        "# Save the output to a CSV file\n",
        "output_df.to_csv('mushroom_predictions.csv', index=False)\n",
        "\n",
        "# Display the first few rows of the output\n",
        "print(output_df.head())\n"
      ],
      "metadata": {
        "colab": {
          "base_uri": "https://localhost:8080/"
        },
        "id": "eSeCXARnb7Dy",
        "outputId": "e57f8a36-acdd-43b0-e091-cef7d110a7da"
      },
      "execution_count": null,
      "outputs": [
        {
          "output_type": "stream",
          "name": "stdout",
          "text": [
            "Training Columns: Index(['id', 'class', 'cap-diameter', 'cap-shape', 'cap-surface', 'cap-color',\n",
            "       'does-bruise-or-bleed', 'gill-attachment', 'gill-spacing', 'gill-color',\n",
            "       'stem-height', 'stem-width', 'stem-root', 'stem-surface', 'stem-color',\n",
            "       'veil-type', 'veil-color', 'has-ring', 'ring-type', 'spore-print-color',\n",
            "       'habitat', 'season'],\n",
            "      dtype='object')\n",
            "Testing Columns: Index(['id', 'cap-diameter', 'cap-shape', 'cap-surface', 'cap-color',\n",
            "       'does-bruise-or-bleed', 'gill-attachment', 'gill-spacing', 'gill-color',\n",
            "       'stem-height', 'stem-width', 'stem-root', 'stem-surface', 'stem-color',\n",
            "       'veil-type', 'veil-color', 'has-ring', 'ring-type', 'spore-print-color',\n",
            "       'habitat', 'season'],\n",
            "      dtype='object')\n",
            "        id class\n",
            "0  3116945     e\n",
            "1  3116946     p\n",
            "2  3116947     p\n",
            "3  3116948     p\n",
            "4  3116949     e\n"
          ]
        }
      ]
    },
    {
      "cell_type": "code",
      "source": [],
      "metadata": {
        "id": "j_wuUTEob8Ta"
      },
      "execution_count": null,
      "outputs": []
    }
  ]
}